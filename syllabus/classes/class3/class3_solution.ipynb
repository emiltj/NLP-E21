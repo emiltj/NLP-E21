{
 "cells": [
  {
   "cell_type": "code",
   "execution_count": 2,
   "source": [
    "from collections import Counter\r\n",
    "import spacy\r\n",
    "nlp = spacy.load(\"en_core_web_sm\")\r\n",
    "doc = nlp(\"This is a long English text with no punctuation bitch\")"
   ],
   "outputs": [],
   "metadata": {}
  },
  {
   "cell_type": "code",
   "execution_count": 3,
   "source": [
    "token_list = []\r\n",
    "wanted_pos =[\"NOUN\", \"ADJ\", \"VERB\"]\r\n",
    "\r\n",
    "for token in doc:\r\n",
    "    if (token.pos_ in wanted_pos):\r\n",
    "        token_list.append(token)\r\n",
    "\r\n",
    "token_list"
   ],
   "outputs": [
    {
     "output_type": "execute_result",
     "data": {
      "text/plain": [
       "[long, English, text, punctuation, bitch]"
      ]
     },
     "metadata": {},
     "execution_count": 3
    }
   ],
   "metadata": {}
  },
  {
   "cell_type": "code",
   "execution_count": 4,
   "source": [
    "pos_tags = Counter([token.pos_ for token in token_list])\r\n",
    "pos_tags"
   ],
   "outputs": [
    {
     "output_type": "execute_result",
     "data": {
      "text/plain": [
       "Counter({'ADJ': 2, 'NOUN': 3})"
      ]
     },
     "metadata": {},
     "execution_count": 4
    }
   ],
   "metadata": {}
  },
  {
   "cell_type": "code",
   "execution_count": 6,
   "source": [
    "[(pos, count/len(doc)) for pos, count in pos_tags.items()]"
   ],
   "outputs": [
    {
     "output_type": "execute_result",
     "data": {
      "text/plain": [
       "dict_items([('ADJ', 2), ('NOUN', 3)])"
      ]
     },
     "metadata": {},
     "execution_count": 6
    }
   ],
   "metadata": {}
  },
  {
   "cell_type": "code",
   "execution_count": 7,
   "source": [
    "[(pos, count/len(doc)) for pos, count in pos_tags.items()]"
   ],
   "outputs": [
    {
     "output_type": "execute_result",
     "data": {
      "text/plain": [
       "[('ADJ', 0.2), ('NOUN', 0.3)]"
      ]
     },
     "metadata": {},
     "execution_count": 7
    }
   ],
   "metadata": {}
  },
  {
   "cell_type": "code",
   "execution_count": 8,
   "source": [
    "def calculate_mdd(text):\r\n",
    "    t_sum = 0\r\n",
    "    t_size = 0\r\n",
    "    doc = nlp(text)\r\n",
    "\r\n",
    "    for token in doc:\r\n",
    "        dist = abs(token.i - token.head.i)\r\n",
    "        t_sum += dist\r\n",
    "        if dist != 0:\r\n",
    "            t_size += 1\r\n",
    "        # print(token, token.head, dist)\r\n",
    "\r\n",
    "    mdd = t_sum / t_size\r\n",
    "    return mdd\r\n",
    "\r\n",
    "\r\n",
    "print(calculate_mdd(\"The reporter who attacked the senator admitted the error.\"))"
   ],
   "outputs": [
    {
     "output_type": "stream",
     "name": "stdout",
     "text": [
      "2.0\n"
     ]
    }
   ],
   "metadata": {}
  },
  {
   "cell_type": "code",
   "execution_count": null,
   "source": [],
   "outputs": [],
   "metadata": {}
  }
 ],
 "metadata": {
  "language_info": {
   "codemirror_mode": {
    "name": "ipython",
    "version": 3
   },
   "file_extension": ".py",
   "mimetype": "text/x-python",
   "name": "python",
   "nbconvert_exporter": "python",
   "pygments_lexer": "ipython3",
   "version": "3.9.7"
  },
  "orig_nbformat": 2,
  "kernelspec": {
   "name": "python3",
   "display_name": "Python 3.9.7 64-bit ('nlp_2021': conda)"
  },
  "interpreter": {
   "hash": "1744c0d12828bd24a199d6784e6221ae41938f4f598d4805e4266dec8be793c7"
  }
 },
 "nbformat": 4,
 "nbformat_minor": 2
}